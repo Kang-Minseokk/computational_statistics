{
 "cells": [
  {
   "metadata": {
    "ExecuteTime": {
     "end_time": "2024-10-10T01:30:27.901657Z",
     "start_time": "2024-10-10T01:30:27.843316Z"
    }
   },
   "cell_type": "code",
   "source": "import numpy as np",
   "id": "f60c679650477ce9",
   "outputs": [],
   "execution_count": 1
  },
  {
   "cell_type": "code",
   "id": "initial_id",
   "metadata": {
    "collapsed": true,
    "ExecuteTime": {
     "end_time": "2024-10-10T01:30:27.917115Z",
     "start_time": "2024-10-10T01:30:27.913396Z"
    }
   },
   "source": [
    "def f(x) :\n",
    "    result = 4 * x - 1.8 * x ** 2 + 1.2 * x ** 3 - 0.3 * x ** 4\n",
    "    return result"
   ],
   "outputs": [],
   "execution_count": 2
  },
  {
   "metadata": {
    "ExecuteTime": {
     "end_time": "2024-10-10T01:31:45.822369Z",
     "start_time": "2024-10-10T01:31:45.816765Z"
    }
   },
   "cell_type": "code",
   "source": [
    "# Using Golden Section Algorithm To get Max Value\n",
    "xl = -2\n",
    "xu = 4\n",
    "phi = (np.sqrt(5) + 1) / 2\n",
    "max_iter = 30\n",
    "\n",
    "# 최초 d값 구하기\n",
    "d = (phi - 1) * (xu - xl)\n",
    "\n",
    "# d값을 사용하여 최초 x1, x2구하기\n",
    "x1 = xl + d\n",
    "x2 = xu - d\n",
    "\n",
    "es = 1\n",
    "\n",
    "for i in range(max_iter) :\n",
    "    if f(x1) > f(x2) : \n",
    "        xl = x2 # x2가 새로운 xl이 된다.\n",
    "        x2 = x1 # x1이 새로운 x2가 된다.\n",
    "        d = (phi - 1) * (xu - xl)\n",
    "        x1 = xl + d\n",
    "        # relative Error를 구한다.\n",
    "        ea = (2 - phi) * abs((xu - xl) / x1) * 100\n",
    "        # Stopping Criterion Checking    \n",
    "        if ea < es : # 조건이 만족하는 경우\n",
    "            print(\"x의 값: \", x1, \"f(x)의 값: \", f(x1))\n",
    "            print(f\"{i+1}th iteration, ea is {ea}\")            \n",
    "            break\n",
    "        \n",
    "    else :\n",
    "        xu = x1 # x1이 새로운 xu가 된다.\n",
    "        x1 = x2 # x2가 새로운 x1이 된다.\n",
    "        d = (phi - 1) * (xu - xl)\n",
    "        x2 = xu - d\n",
    "        # relative Error를 구해보자.\n",
    "        ea = (2 - phi) * abs((xu - xl) / x2) * 100\n",
    "        # Stopping Criterion Checking    \n",
    "        if ea < es : # 조건이 만족하는 경우\n",
    "            print(\"x의 값: \", x2, \"f(x)의 값: \", f(x2))\n",
    "            print(f\"{i+1}th iteration, ea is {ea}\")\n",
    "            break    \n"
   ],
   "id": "9b9e9fe8fc26742",
   "outputs": [
    {
     "name": "stdout",
     "output_type": "stream",
     "text": [
      "x의 값:  2.3166410276217664 f(x)의 값:  5.885042857969635\n",
      "10th iteration, ea is 0.8043421431580282\n"
     ]
    }
   ],
   "execution_count": 4
  },
  {
   "metadata": {},
   "cell_type": "code",
   "outputs": [],
   "execution_count": null,
   "source": "",
   "id": "b60b1dd8bf0eface"
  }
 ],
 "metadata": {
  "kernelspec": {
   "display_name": "Python 3",
   "language": "python",
   "name": "python3"
  },
  "language_info": {
   "codemirror_mode": {
    "name": "ipython",
    "version": 2
   },
   "file_extension": ".py",
   "mimetype": "text/x-python",
   "name": "python",
   "nbconvert_exporter": "python",
   "pygments_lexer": "ipython2",
   "version": "2.7.6"
  }
 },
 "nbformat": 4,
 "nbformat_minor": 5
}
