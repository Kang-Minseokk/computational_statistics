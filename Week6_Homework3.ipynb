{
 "cells": [
  {
   "cell_type": "code",
   "id": "initial_id",
   "metadata": {
    "collapsed": true,
    "ExecuteTime": {
     "end_time": "2024-10-15T03:59:19.190316Z",
     "start_time": "2024-10-15T03:59:19.186341Z"
    }
   },
   "source": "data = [0.3, -0.7, 0.6, -0.4, -2.0, -3.1, 1.4, 0.7, -0.1, -0.1, 0.6, -0.9, 1.3, 0.6, -2.0, 0.7, -0.8, 3.1, 1.7, 1.1]",
   "outputs": [],
   "execution_count": 1
  },
  {
   "metadata": {
    "ExecuteTime": {
     "end_time": "2024-10-15T12:37:35.449810Z",
     "start_time": "2024-10-15T12:37:35.005939Z"
    }
   },
   "cell_type": "code",
   "source": [
    "from scipy.stats import norm\n",
    "import numpy as np\n",
    "import math"
   ],
   "id": "333c5080f1428540",
   "outputs": [],
   "execution_count": 3
  },
  {
   "metadata": {
    "ExecuteTime": {
     "end_time": "2024-10-15T03:59:19.881673Z",
     "start_time": "2024-10-15T03:59:19.878554Z"
    }
   },
   "cell_type": "code",
   "source": [
    "# Z 값을 구하자. 유의 수준의 값은 0.05임을 참고하자.\n",
    "Z = norm.ppf(1 - 0.025)\n",
    "print(\"Z값: \", Z)\n",
    "\n",
    "# S 값을 구하자. \n",
    "S = np.std(data, ddof=1)\n",
    "print(\"표본 표준편차의 값: \", S)\n",
    "        \n",
    "# 오차 한계는 1이다.\n",
    "d = 1\n",
    "\n",
    "# 공식에 대입하여 최솟값을 구한다.\n",
    "n_min = (Z * S / d) ** 2\n",
    "print(\"n의 최솟 값: \", n_min)\n",
    "\n",
    "\n",
    "# 천장 함수를 사용한다. (정수 부분에 1을 더해준다)\n",
    "result = math.ceil(n_min)\n",
    "print(\"최소 표본 수는 \", result, \"입니다.\")"
   ],
   "id": "eb2b93e1fdba9c2e",
   "outputs": [
    {
     "name": "stdout",
     "output_type": "stream",
     "text": [
      "Z값:  1.959963984540054\n",
      "표본 표준편차의 값:  1.433435328888354\n",
      "n의 최솟 값:  7.893186966310455\n",
      "최소 표본 수는  8 입니다.\n"
     ]
    }
   ],
   "execution_count": 3
  },
  {
   "metadata": {
    "ExecuteTime": {
     "end_time": "2024-10-15T12:37:37.601335Z",
     "start_time": "2024-10-15T12:37:37.597837Z"
    }
   },
   "cell_type": "code",
   "source": [
    "result = norm.ppf(0.05)\n",
    "print(result)"
   ],
   "id": "c0d03115889ed639",
   "outputs": [
    {
     "name": "stdout",
     "output_type": "stream",
     "text": [
      "-1.6448536269514729\n"
     ]
    }
   ],
   "execution_count": 4
  },
  {
   "metadata": {},
   "cell_type": "code",
   "outputs": [],
   "execution_count": null,
   "source": "",
   "id": "887cc58820b7b8e7"
  }
 ],
 "metadata": {
  "kernelspec": {
   "display_name": "Python 3",
   "language": "python",
   "name": "python3"
  },
  "language_info": {
   "codemirror_mode": {
    "name": "ipython",
    "version": 2
   },
   "file_extension": ".py",
   "mimetype": "text/x-python",
   "name": "python",
   "nbconvert_exporter": "python",
   "pygments_lexer": "ipython2",
   "version": "2.7.6"
  }
 },
 "nbformat": 4,
 "nbformat_minor": 5
}
