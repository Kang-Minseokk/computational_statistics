{
 "cells": [
  {
   "metadata": {
    "ExecuteTime": {
     "end_time": "2024-10-12T13:38:38.553118Z",
     "start_time": "2024-10-12T13:38:38.548629Z"
    }
   },
   "cell_type": "code",
   "source": "",
   "id": "37d13ddf754913ae",
   "outputs": [],
   "execution_count": 1
  },
  {
   "cell_type": "code",
   "id": "initial_id",
   "metadata": {
    "collapsed": true,
    "ExecuteTime": {
     "end_time": "2024-10-12T13:38:38.993639Z",
     "start_time": "2024-10-12T13:38:38.553963Z"
    }
   },
   "source": [
    "import math\n",
    "# (a) 그래프를 그려서 확인하기 \n",
    "\n",
    "import numpy as np\n",
    "import matplotlib.pyplot as plt\n",
    "\n",
    "# x 값의 범위 설정\n",
    "x = np.linspace(-2, 5, 400)\n",
    "\n",
    "# 주어진 함수: 7 * sin(x) * e ** (-x) - 1\n",
    "y = 7 * np.sin(x) * np.exp(-x) - 1\n",
    "\n",
    "# 그래프 그리기\n",
    "plt.plot(x, y, label='7 * sin(x) * e^(-x) - 1')\n",
    "\n",
    "# 그래프 꾸미기\n",
    "plt.title(\"Graph of 7 * sin(x) * e^(-x) - 1\")\n",
    "plt.xlabel(\"x\")\n",
    "plt.ylabel(\"y\")\n",
    "plt.axhline(0, color='black',linewidth=0.5)\n",
    "plt.axvline(0, color='black',linewidth=0.5)\n",
    "plt.grid(True)\n",
    "plt.legend()\n",
    "\n",
    "# 그래프 출력\n",
    "plt.show()\n"
   ],
   "outputs": [
    {
     "data": {
      "text/plain": [
       "<Figure size 640x480 with 1 Axes>"
      ],
      "image/png": "[encoded data removed]"
     },
     "metadata": {},
     "output_type": "display_data"
    }
   ],
   "execution_count": 2
  },
  {
   "metadata": {
    "ExecuteTime": {
     "end_time": "2024-10-12T13:38:38.997468Z",
     "start_time": "2024-10-12T13:38:38.994461Z"
    }
   },
   "cell_type": "code",
   "source": [
    "# (b) Wegstein Method 사용하기\n",
    "def g(x):\n",
    "    result = 7 * np.sin(x) * math.e ** (-x) - 1 + x\n",
    "    return result\n",
    "\n",
    "x0 = 0.1 \n",
    "x1 = 0.2\n",
    "for i in range(4) :\n",
    "    x_next = (x1 * g(x0) - x0 * g(x1)) / (x1 - x0 - \n",
    "                                          g(x1) + g(x0))\n",
    "    print(f\"{i+1}th Iteration\")\n",
    "    print(\"X i-1 = \", x0)\n",
    "    print(\"X i = \", x1)\n",
    "    print(\"X i+1 = \", x_next, \"\\n\")\n",
    "    \n",
    "    x0 = x1\n",
    "    x1 = x_next\n"
   ],
   "id": "94c7b62342a4e67a",
   "outputs": [
    {
     "name": "stdout",
     "output_type": "stream",
     "text": [
      "1th Iteration\n",
      "X i-1 =  0.1\n",
      "X i =  0.2\n",
      "X i+1 =  0.1726236994636818 \n",
      "\n",
      "2th Iteration\n",
      "X i-1 =  0.2\n",
      "X i =  0.1726236994636818\n",
      "X i+1 =  0.17008962881051712 \n",
      "\n",
      "3th Iteration\n",
      "X i-1 =  0.1726236994636818\n",
      "X i =  0.17008962881051712\n",
      "X i+1 =  0.170180260913631 \n",
      "\n",
      "4th Iteration\n",
      "X i-1 =  0.17008962881051712\n",
      "X i =  0.170180260913631\n",
      "X i+1 =  0.17017999378298246 \n",
      "\n"
     ]
    }
   ],
   "execution_count": 3
  },
  {
   "metadata": {
    "ExecuteTime": {
     "end_time": "2024-10-12T13:38:39.000908Z",
     "start_time": "2024-10-12T13:38:38.998513Z"
    }
   },
   "cell_type": "code",
   "source": [
    "# (c) Newton - Raphson Method Using\n",
    "def f(x) :\n",
    "    result = 7 * np.sin(x) * math.e ** (-x) - 1\n",
    "    return result\n",
    "\n",
    "def grad_f(x) :\n",
    "    result = (7 * np.cos(x) * math.e ** (-x) - 7 * \n",
    "              np.sin(x) * math.e ** (-x))\n",
    "    return result\n",
    "\n",
    "x_previous = 0.3\n",
    "for i in range(4) :\n",
    "    x_next = x_previous - f(x_previous) / grad_f(x_previous)\n",
    "    print(f\"{i+1}th Iteration\")\n",
    "    print(\"x_next: \", x_next, \"\\n\")\n",
    "    x_previous = x_next\n"
   ],
   "id": "1dc5722e47476949",
   "outputs": [
    {
     "name": "stdout",
     "output_type": "stream",
     "text": [
      "1th Iteration\n",
      "x_next:  0.14437602272107763 \n",
      "\n",
      "2th Iteration\n",
      "x_next:  0.16940853737743589 \n",
      "\n",
      "3th Iteration\n",
      "x_next:  0.17017927602141464 \n",
      "\n",
      "4th Iteration\n",
      "x_next:  0.17017999375321316 \n",
      "\n"
     ]
    }
   ],
   "execution_count": 4
  },
  {
   "metadata": {
    "ExecuteTime": {
     "end_time": "2024-10-12T13:38:39.003189Z",
     "start_time": "2024-10-12T13:38:39.001435Z"
    }
   },
   "cell_type": "code",
   "source": [
    "# (d) Modified Secant Method Using\n",
    "x_previous = 0.3\n",
    "delta_value = 0.001\n",
    "\n",
    "for i in range(4) :\n",
    "    x_next = (x_previous - (delta_value * f(x_previous)) / \n",
    "              (f(x_previous + delta_value) - f(x_previous)))\n",
    "    print(f\"{i+1}th Iteration\")\n",
    "    print(\"x_next: \", x_next, \"\\n\")\n",
    "    x_previous = x_next"
   ],
   "id": "619676e5bca2273f",
   "outputs": [
    {
     "name": "stdout",
     "output_type": "stream",
     "text": [
      "1th Iteration\n",
      "x_next:  0.14415046937654477 \n",
      "\n",
      "2th Iteration\n",
      "x_next:  0.1694248245394087 \n",
      "\n",
      "3th Iteration\n",
      "x_next:  0.17018021691370702 \n",
      "\n",
      "4th Iteration\n",
      "x_next:  0.17017999348408927 \n",
      "\n"
     ]
    }
   ],
   "execution_count": 5
  }
 ],
 "metadata": {
  "kernelspec": {
   "display_name": "Python 3",
   "language": "python",
   "name": "python3"
  },
  "language_info": {
   "codemirror_mode": {
    "name": "ipython",
    "version": 2
   },
   "file_extension": ".py",
   "mimetype": "text/x-python",
   "name": "python",
   "nbconvert_exporter": "python",
   "pygments_lexer": "ipython2",
   "version": "2.7.6"
  }
 },
 "nbformat": 4,
 "nbformat_minor": 5
}
