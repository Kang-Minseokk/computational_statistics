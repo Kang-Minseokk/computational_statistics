{
 "cells": [
  {
   "metadata": {
    "ExecuteTime": {
     "end_time": "2024-10-10T13:27:51.409720Z",
     "start_time": "2024-10-10T13:27:51.405762Z"
    }
   },
   "cell_type": "code",
   "source": "import math",
   "id": "fe7d0de2ff1c60a2",
   "outputs": [],
   "execution_count": 1
  },
  {
   "cell_type": "code",
   "id": "initial_id",
   "metadata": {
    "collapsed": true,
    "ExecuteTime": {
     "end_time": "2024-10-10T14:23:44.911902Z",
     "start_time": "2024-10-10T14:23:44.905621Z"
    }
   },
   "source": [
    "def app_sin(x, n):\n",
    "    result = 0\n",
    "    true_value = math.sin(x)\n",
    "    for i in range(n):        \n",
    "        # 값 구하기\n",
    "        result += (-1) ** i * (x ** (2 * i + 1) / math.factorial(2 * i + 1))\n",
    "        print(f\"{i+1}th Iteration Result: {result}\")\n",
    "        # 에러 구하기\n",
    "        relative_error = ((true_value - result) / true_value) \n",
    "        print(f\"Relative Error: {relative_error}\\n\")"
   ],
   "outputs": [],
   "execution_count": 9
  },
  {
   "metadata": {
    "ExecuteTime": {
     "end_time": "2024-10-10T14:23:45.155296Z",
     "start_time": "2024-10-10T14:23:45.152559Z"
    }
   },
   "cell_type": "code",
   "source": "app_sin(0.9, 7)",
   "id": "bf3cc442d1ba3d2f",
   "outputs": [
    {
     "name": "stdout",
     "output_type": "stream",
     "text": [
      "1th Iteration Result: 0.9\n",
      "Relative Error: -0.14894559211300593\n",
      "\n",
      "2th Iteration Result: 0.7785\n",
      "Relative Error: 0.006162062822249927\n",
      "\n",
      "3th Iteration Result: 0.78342075\n",
      "Relative Error: -0.00011979720262796957\n",
      "\n",
      "4th Iteration Result: 0.7833258498214286\n",
      "Relative Error: 1.352954994624063e-06\n",
      "\n",
      "5th Iteration Result: 0.7833269174484375\n",
      "Relative Error: -9.98427860761551e-09\n",
      "\n",
      "6th Iteration Result: 0.7833269095868205\n",
      "Relative Error: 5.191053310929412e-11\n",
      "\n",
      "7th Iteration Result: 0.7833269096276404\n",
      "Relative Error: -2.0040871027481068e-13\n",
      "\n"
     ]
    }
   ],
   "execution_count": 10
  },
  {
   "metadata": {},
   "cell_type": "code",
   "outputs": [],
   "execution_count": null,
   "source": "",
   "id": "10c5ce3cafd097e"
  }
 ],
 "metadata": {
  "kernelspec": {
   "display_name": "Python 3",
   "language": "python",
   "name": "python3"
  },
  "language_info": {
   "codemirror_mode": {
    "name": "ipython",
    "version": 2
   },
   "file_extension": ".py",
   "mimetype": "text/x-python",
   "name": "python",
   "nbconvert_exporter": "python",
   "pygments_lexer": "ipython2",
   "version": "2.7.6"
  }
 },
 "nbformat": 4,
 "nbformat_minor": 5
}
