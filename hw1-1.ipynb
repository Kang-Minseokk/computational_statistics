{
 "cells": [
  {
   "metadata": {
    "ExecuteTime": {
     "end_time": "2024-10-09T05:27:57.587855Z",
     "start_time": "2024-10-09T05:27:57.498156Z"
    }
   },
   "cell_type": "code",
   "source": "import math",
   "id": "fe7d0de2ff1c60a2",
   "outputs": [],
   "execution_count": 28
  },
  {
   "cell_type": "code",
   "id": "initial_id",
   "metadata": {
    "collapsed": true,
    "ExecuteTime": {
     "end_time": "2024-10-09T05:36:50.993729Z",
     "start_time": "2024-10-09T05:36:50.990370Z"
    }
   },
   "source": [
    "def app_sin(x, n):\n",
    "    result = 0\n",
    "    true_value = math.sin(x)\n",
    "    for i in range(n):        \n",
    "        # 값 구하기\n",
    "        result += (-1) ** i * (x ** (2 * i + 1) / math.factorial(2 * i + 1))\n",
    "        print(f\"{i+1}th Iteration Approximation : {result}\")\n",
    "        \n",
    "        # 에러 구하기\n",
    "        relative_error = abs((true_value - result) / true_value) * 100\n",
    "        print(f\"Relative Error: {relative_error}\\n\")"
   ],
   "outputs": [],
   "execution_count": 49
  },
  {
   "metadata": {
    "ExecuteTime": {
     "end_time": "2024-10-09T05:36:51.149040Z",
     "start_time": "2024-10-09T05:36:51.146434Z"
    }
   },
   "cell_type": "code",
   "source": "app_sin(0.9, 8)",
   "id": "bf3cc442d1ba3d2f",
   "outputs": [
    {
     "name": "stdout",
     "output_type": "stream",
     "text": [
      "1th Iteration Approximation : 0.9\n",
      "Relative Error: 14.894559211300592\n",
      "\n",
      "2th Iteration Approximation : 0.7785\n",
      "Relative Error: 0.6162062822249927\n",
      "\n",
      "3th Iteration Approximation : 0.78342075\n",
      "Relative Error: 0.011979720262796957\n",
      "\n",
      "4th Iteration Approximation : 0.7833258498214286\n",
      "Relative Error: 0.0001352954994624063\n",
      "\n",
      "5th Iteration Approximation : 0.7833269174484375\n",
      "Relative Error: 9.98427860761551e-07\n",
      "\n",
      "6th Iteration Approximation : 0.7833269095868205\n",
      "Relative Error: 5.191053310929412e-09\n",
      "\n",
      "7th Iteration Approximation : 0.7833269096276404\n",
      "Relative Error: 2.0040871027481067e-11\n",
      "\n",
      "8th Iteration Approximation : 0.783326909627483\n",
      "Relative Error: 5.669270446246412e-14\n",
      "\n"
     ]
    }
   ],
   "execution_count": 50
  },
  {
   "metadata": {},
   "cell_type": "code",
   "outputs": [],
   "execution_count": null,
   "source": "",
   "id": "850e6d59f1c4f477"
  }
 ],
 "metadata": {
  "kernelspec": {
   "display_name": "Python 3",
   "language": "python",
   "name": "python3"
  },
  "language_info": {
   "codemirror_mode": {
    "name": "ipython",
    "version": 2
   },
   "file_extension": ".py",
   "mimetype": "text/x-python",
   "name": "python",
   "nbconvert_exporter": "python",
   "pygments_lexer": "ipython2",
   "version": "2.7.6"
  }
 },
 "nbformat": 4,
 "nbformat_minor": 5
}
