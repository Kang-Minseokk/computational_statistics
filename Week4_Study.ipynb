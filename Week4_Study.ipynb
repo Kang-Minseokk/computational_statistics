{
 "cells": [
  {
   "metadata": {
    "ExecuteTime": {
     "end_time": "2024-09-25T07:11:56.279072Z",
     "start_time": "2024-09-25T07:11:56.276353Z"
    }
   },
   "cell_type": "code",
   "source": [
    "import numpy as np\n",
    "from scipy.stats import *"
   ],
   "id": "9b6ebb7923fecb27",
   "outputs": [],
   "execution_count": 20
  },
  {
   "cell_type": "code",
   "id": "initial_id",
   "metadata": {
    "collapsed": true,
    "ExecuteTime": {
     "end_time": "2024-09-25T06:54:12.772718Z",
     "start_time": "2024-09-25T06:54:12.769550Z"
    }
   },
   "source": "can_data = np.array([101.8, 101.5, 102.6, 101, 101.8, 96.8, 102.4, 100, 98.8, 98.1, 98.8, 98, 99.4, 95.5, 100.1, 100.5, 97.4, 100.2, 101.4, 98.7, 101.4, 99.4, 101.7, 99, 99.7, 98.8, 99.5, 100, 99.7, 100.9, 99.7, 99, 98.8, 99.7, 100.9, 99.9, 97.5, 101.5, 98.2, 99.2, 98.6, 101.4, 102.1, 102.9, 100.8, 99.4, 103.7, 100.3, 100.2, 101.1, 101.8, 100, 101.2, 100.5, 101.2, 101.6, 99.9, 100.5, 100.4, 98.1, 100.1, 101.6, 99.3, 96.1, 100, 99.7, 99.7, 99.4, 101.5, 100.9, 101.2, 99.9, 99.1, 100.7, 100.8,100.8, 101.4, 100.3, 98.4, 97.2])",
   "outputs": [],
   "execution_count": 3
  },
  {
   "metadata": {
    "ExecuteTime": {
     "end_time": "2024-09-25T07:06:50.731823Z",
     "start_time": "2024-09-25T07:06:50.725368Z"
    }
   },
   "cell_type": "code",
   "source": [
    "n = len(can_data)\n",
    "can_mean = np.mean(can_data)\n",
    "can_std = np.std(can_data)\n",
    "\n",
    "ll = can_mean - norm(loc=0, scale=1).ppf(0.975)*can_std/np.sqrt(n)\n",
    "ul = can_mean + norm(loc=0, scale=1).ppf(0.975)*can_std/np.sqrt(n)\n",
    "\n",
    "print(\"point estimator of the mean is %.2f\" %can_mean)\n",
    "print(\"print 95 confidence interval of mean is {} and {}\".format(np.round(ll, 4), np.round(ul, 4)))\n"
   ],
   "id": "fec52c3bd686b2b9",
   "outputs": [
    {
     "name": "stdout",
     "output_type": "stream",
     "text": [
      "pont estimator of the mean is 100.04\n",
      "print 95 confidence interval of mean is 99.7074 and 100.3701\n"
     ]
    }
   ],
   "execution_count": 15
  },
  {
   "metadata": {
    "ExecuteTime": {
     "end_time": "2024-09-25T07:15:03.234908Z",
     "start_time": "2024-09-25T07:15:03.230715Z"
    }
   },
   "cell_type": "code",
   "source": [
    "small_can = np.random.choice(can_data, size=25, replace=True)\n",
    "print(\"---\")\n",
    "print(small_can)\n",
    "print(\"---\")"
   ],
   "id": "5198996ee1aab74a",
   "outputs": [
    {
     "name": "stdout",
     "output_type": "stream",
     "text": [
      "---\n",
      "[100.1 100.3  99.2  98.4 100.9 100.2  98.1 100.3  98.8 100.7  99.7 101.8\n",
      "  99.3 101.4  98.8  96.8  99.7  99.5 100.3 101.5  99.7 101.8  98.4 102.9\n",
      "  99.9]\n",
      "---\n"
     ]
    }
   ],
   "execution_count": 24
  },
  {
   "metadata": {
    "ExecuteTime": {
     "end_time": "2024-09-25T07:15:04.179668Z",
     "start_time": "2024-09-25T07:15:04.174146Z"
    }
   },
   "cell_type": "code",
   "source": [
    "n = len(small_can)\n",
    "df = n - 1 \n",
    "can_mean = np.mean(small_can)\n",
    "can_std = np.std(small_can)\n",
    "\n",
    "ll = can_mean - t(df).ppf(0.975) * can_std/np.sqrt(n)\n",
    "ul = can_mean + t(df).ppf(0.975) * can_std/np.sqrt(n)\n",
    "\n",
    "print(\"point estimator of the mean is %.2f\" %can_mean)\n",
    "print(\"print 95 confidence interval of mean is {} and {}\".format(np.round(ll, 4), np.round(ul, 4)))"
   ],
   "id": "d00f60af0e5516d8",
   "outputs": [
    {
     "name": "stdout",
     "output_type": "stream",
     "text": [
      "point estimator of the mean is 99.94\n",
      "print 95 confidence interval of mean is 99.3915 and 100.4885\n"
     ]
    }
   ],
   "execution_count": 25
  },
  {
   "metadata": {},
   "cell_type": "markdown",
   "source": [
    "## 문제1\n",
    "\n",
    " A company randomly select 250 customers and send the promotion code for a new product. Among these, 70 people responded to buy the product using the promotion code. Then what would be the proportion of the customers to buy the product, and what is the 90% confidence interval of that?"
   ],
   "id": "bfe6f32c0bb9bb26"
  },
  {
   "metadata": {
    "ExecuteTime": {
     "end_time": "2024-09-25T07:25:47.850840Z",
     "start_time": "2024-09-25T07:25:47.839768Z"
    }
   },
   "cell_type": "code",
   "source": [
    "x = 70\n",
    "n = 250\n",
    "p_hat = x / n\n",
    "\n",
    "ll = p_hat - norm(loc=0, scale=1).ppf(0.900) * np.sqrt(p_hat * (1-p_hat) / n)\n",
    "ul = p_hat + norm(loc=0, scale=1).ppf(0.900) * np.sqrt(p_hat * (1-p_hat) / n)\n",
    "\n",
    "print(\"point estimator of the mean is %.2f\" %p_hat)\n",
    "print(\"print 95 confidence interval of mean is {} and {}\".format(np.round(ll, 4), np.round(ul, 4)))"
   ],
   "id": "612aa551ad943668",
   "outputs": [
    {
     "name": "stdout",
     "output_type": "stream",
     "text": [
      "point estimator of the mean is 0.28\n",
      "print 95 confidence interval of mean is 0.2436 and 0.3164\n"
     ]
    }
   ],
   "execution_count": 26
  },
  {
   "metadata": {},
   "cell_type": "markdown",
   "source": [
    "## 문제 2\n",
    "Find the 95% confidence interval of the variance with ‘can\n",
    "data’."
   ],
   "id": "67e6ef4f3e06843d"
  },
  {
   "metadata": {
    "ExecuteTime": {
     "end_time": "2024-09-25T07:43:52.914806Z",
     "start_time": "2024-09-25T07:43:52.906335Z"
    }
   },
   "cell_type": "code",
   "source": [
    "n = len(can_data)\n",
    "df = n - 1\n",
    "s2 = np.var(can_data, ddof=1)\n",
    "chi_dist = chi2(df)\n",
    "\n",
    "ll = (n - 1) * s2 / chi_dist.ppf(0.975)\n",
    "ul = (n - 1) * s2 / chi_dist.ppf(0.025)\n",
    "\n",
    "print(\"point estimator of the mean is %.2f\" %p_hat)\n",
    "print(\"print 95 confidence interval of mean is {} and {}\".format(np.round(ll, 4), np.round(ul, 4)))"
   ],
   "id": "56d089338a5d503d",
   "outputs": [
    {
     "name": "stdout",
     "output_type": "stream",
     "text": [
      "point estimator of the mean is 0.28\n",
      "print 95 confidence interval of mean is 1.7348 and 3.2494\n"
     ]
    }
   ],
   "execution_count": 33
  },
  {
   "metadata": {
    "ExecuteTime": {
     "end_time": "2024-09-25T07:39:22.992406Z",
     "start_time": "2024-09-25T07:39:22.990711Z"
    }
   },
   "cell_type": "code",
   "source": "",
   "id": "45c19361e0354c0b",
   "outputs": [],
   "execution_count": 31
  },
  {
   "metadata": {
    "ExecuteTime": {
     "end_time": "2024-09-25T07:48:33.104747Z",
     "start_time": "2024-09-25T07:48:33.101460Z"
    }
   },
   "cell_type": "code",
   "source": [
    "A_group = np.random.choice(can_data, 20, replace=True)\n",
    "B_group = np.random.choice(can_data, 18, replace=True)\n",
    "\n",
    "print(\"____A Group____\")\n",
    "print(A_group)\n",
    "print(\"____B Group____\")\n",
    "print(B_group)"
   ],
   "id": "3baa9a82fceacc89",
   "outputs": [
    {
     "name": "stdout",
     "output_type": "stream",
     "text": [
      "____A Group____\n",
      "[ 99.7  95.5 100.  101.6  99.4  98.   96.8  98.1 101.5 101.7  99.9 101.1\n",
      " 102.6  96.1 101.4 100.1  99.7 101.8  98.8 101.4]\n",
      "____B Group____\n",
      "[100.7 100.9  96.8  95.5 101.4  98.8  99.9 102.1 101.4  99.2  99.1  99.1\n",
      " 103.7  97.4  99.3  96.8 100.2 101.4]\n"
     ]
    }
   ],
   "execution_count": 47
  },
  {
   "metadata": {
    "ExecuteTime": {
     "end_time": "2024-09-25T07:48:33.281549Z",
     "start_time": "2024-09-25T07:48:33.278642Z"
    }
   },
   "cell_type": "code",
   "source": [
    "n1 = len(A_group)\n",
    "n2 = len(B_group)\n",
    "\n",
    "pooled_s2 = ((n1-1) * np.var(A_group, ddof=1) + (n2-1) * np.var(B_group, ddof=1)) / (n1 + n2 - 2)\n",
    "print(pooled_s2)"
   ],
   "id": "f428ab51380c4938",
   "outputs": [
    {
     "name": "stdout",
     "output_type": "stream",
     "text": [
      "4.216472222222226\n"
     ]
    }
   ],
   "execution_count": 48
  },
  {
   "metadata": {},
   "cell_type": "markdown",
   "source": [
    "## 문제 3\n",
    "Calculate the 95% confidence interval of the difference of the\n",
    "means.\n",
    "\n",
    "주의: 표본의 크기가 30보다 작으니 t분포를 사용해주어야 한다."
   ],
   "id": "4a89f1323d4cd039"
  },
  {
   "metadata": {
    "ExecuteTime": {
     "end_time": "2024-09-25T07:57:32.553160Z",
     "start_time": "2024-09-25T07:57:32.547577Z"
    }
   },
   "cell_type": "code",
   "source": [
    "mean = np.mean(A_group) - np.mean(B_group)\n",
    "ll = (np.mean(A_group) - np.mean(B_group)) - norm(loc=0, scale=1).ppf(0.950) * pooled_s2 * np.sqrt(1/n1 + 1/n2)\n",
    "ul = (np.mean(A_group) - np.mean(B_group)) + norm(loc=0, scale=1).ppf(0.950) * pooled_s2 * np.sqrt(1/n1 + 1/n2)\n",
    "\n",
    "print(\"point estimator of the mean is %.2f\" %mean)\n",
    "print(\"print 95 confidence interval of mean is {} and {}\".format(np.round(ll, 4), np.round(ul, 4)))"
   ],
   "id": "e3fcee91a5e4e2df",
   "outputs": [
    {
     "name": "stdout",
     "output_type": "stream",
     "text": [
      "point estimator of the mean is 0.11\n",
      "print 95 confidence interval of mean is -2.1433 and 2.3633\n"
     ]
    }
   ],
   "execution_count": 50
  },
  {
   "metadata": {
    "ExecuteTime": {
     "end_time": "2024-09-25T08:05:30.719724Z",
     "start_time": "2024-09-25T08:05:30.715461Z"
    }
   },
   "cell_type": "code",
   "source": [
    "a_mean = np.mean(A_group)\n",
    "b_mean = np.mean(B_group)\n",
    "df = n1 + n2 - 1\n",
    "\n",
    "ll = (a_mean - b_mean) - t(df).ppf(0.950) * pooled_s2 * np.sqrt(1/n1 + 1/n2)\n",
    "ul = (a_mean - b_mean) + t(df).ppf(0.950) * pooled_s2 * np.sqrt(1/n1 + 1/n2)\n",
    "\n",
    "print(\"point estimator of the mean is %.2f\" %np.round(a_mean-b_mean, 4))\n",
    "print(\"print 95 confidence interval of mean is {} and {}\".format(np.round(ll, 4), np.round(ul, 4)))"
   ],
   "id": "92fa05016c603fd3",
   "outputs": [
    {
     "name": "stdout",
     "output_type": "stream",
     "text": [
      "point estimator of the mean is 0.11\n",
      "print 95 confidence interval of mean is -2.2012 and 2.4212\n"
     ]
    }
   ],
   "execution_count": 53
  },
  {
   "metadata": {
    "ExecuteTime": {
     "end_time": "2024-09-25T08:17:14.321689Z",
     "start_time": "2024-09-25T08:17:14.312194Z"
    }
   },
   "cell_type": "code",
   "source": [
    "n = 100\n",
    "male_x = 62\n",
    "female_x = 29\n",
    "\n",
    "male_phat = male_x / n\n",
    "female_phat = female_x / n\n",
    "\n",
    "ll = (male_phat - female_phat) - norm(loc=0, scale=1).ppf(0.950) * np.sqrt(male_phat * (1-male_phat) / n + female_phat * (1-female_phat) / n)\n",
    "ul = (male_phat - female_phat) + norm(loc=0, scale=1).ppf(0.950) * np.sqrt(male_phat * (1-male_phat) / n + female_phat * (1-female_phat) / n)\n",
    "\n",
    "print(\"point estimator of the mean is %.2f\" %np.round(male_phat - female_phat, 4))\n",
    "print(\"print 95 confidence interval of mean is {} and {}\".format(np.round(ll, 4), np.round(ul, 4)))"
   ],
   "id": "ff1a6e1b1eda514e",
   "outputs": [
    {
     "name": "stdout",
     "output_type": "stream",
     "text": [
      "point estimator of the mean is 0.33\n",
      "print 95 confidence interval of mean is 0.2207 and 0.4393\n"
     ]
    }
   ],
   "execution_count": 54
  },
  {
   "metadata": {
    "ExecuteTime": {
     "end_time": "2024-09-25T08:23:59.633170Z",
     "start_time": "2024-09-25T08:23:59.624979Z"
    }
   },
   "cell_type": "code",
   "source": [
    "n1 = len(A_group)\n",
    "n2 = len(B_group)\n",
    "a_var = np.var(A_group, ddof=1)\n",
    "b_var = np.var(B_group, ddof=1)\n",
    "\n",
    "ll = (a_var / b_var) * f(n1-1, n2-1).ppf(0.950)\n",
    "ul = (a_var / b_var) * f(n2-1, n1-1).ppf(0.950)\n",
    "\n",
    "print(\"point estimator of the mean is %.2f\" %np.round(a_var / b_var, 4))\n",
    "print(\"print 95 confidence interval of mean is {} and {}\".format(np.round(ll, 4), np.round(ul, 4)))"
   ],
   "id": "9f41e724ac713334",
   "outputs": [
    {
     "name": "stdout",
     "output_type": "stream",
     "text": [
      "point estimator of the mean is 0.92\n",
      "print 95 confidence interval of mean is 2.0654 and 2.0238\n"
     ]
    }
   ],
   "execution_count": 55
  },
  {
   "metadata": {},
   "cell_type": "code",
   "outputs": [],
   "execution_count": null,
   "source": "",
   "id": "f037648cac972117"
  }
 ],
 "metadata": {
  "kernelspec": {
   "display_name": "Python 3",
   "language": "python",
   "name": "python3"
  },
  "language_info": {
   "codemirror_mode": {
    "name": "ipython",
    "version": 2
   },
   "file_extension": ".py",
   "mimetype": "text/x-python",
   "name": "python",
   "nbconvert_exporter": "python",
   "pygments_lexer": "ipython2",
   "version": "2.7.6"
  }
 },
 "nbformat": 4,
 "nbformat_minor": 5
}
