{
 "cells": [
  {
   "cell_type": "code",
   "id": "initial_id",
   "metadata": {
    "collapsed": true,
    "ExecuteTime": {
     "end_time": "2024-10-10T13:42:21.172904Z",
     "start_time": "2024-10-10T13:42:21.170404Z"
    }
   },
   "source": "import math",
   "outputs": [],
   "execution_count": 3
  },
  {
   "metadata": {
    "ExecuteTime": {
     "end_time": "2024-10-10T13:42:21.571804Z",
     "start_time": "2024-10-10T13:42:21.569437Z"
    }
   },
   "cell_type": "code",
   "source": [
    "def app_cos(x, sig_num) :\n",
    "    result = 0\n",
    "    i = 0\n",
    "    true_value = math.cos(x)\n",
    "    # 종료 조건 생성\n",
    "    es = 0.5 * 10 ** (2 - sig_num)\n",
    "    \n",
    "    while True:\n",
    "        result += (-1) ** i * x ** (2 * i) / math.factorial(2 * i)\n",
    "        print(f\"{i+1}th Iteration: {result}\")\n",
    "        \n",
    "        # 오차 계산\n",
    "        relative_error = abs(result - true_value) / true_value * 100\n",
    "        print(f\"Relative Error: {relative_error}%\\n\")\n",
    "        \n",
    "        if es > relative_error :\n",
    "            print(f\"{result} {i+1}th Iteration에서 종료됩니다.\")\n",
    "            break\n",
    "        i += 1"
   ],
   "id": "2ebcdb497410f9c4",
   "outputs": [],
   "execution_count": 4
  },
  {
   "metadata": {
    "ExecuteTime": {
     "end_time": "2024-10-10T13:42:21.944836Z",
     "start_time": "2024-10-10T13:42:21.942855Z"
    }
   },
   "cell_type": "code",
   "source": [
    "print(f\"True Value : {math.cos(math.pi / 3)}\")\n",
    "app_cos(math.pi/3, 3)"
   ],
   "id": "6568644a9a86fd70",
   "outputs": [
    {
     "name": "stdout",
     "output_type": "stream",
     "text": [
      "True Value : 0.5000000000000001\n",
      "1th Iteration: 1.0\n",
      "Relative Error: 99.99999999999996%\n",
      "\n",
      "2th Iteration: 0.45168864438392464\n",
      "Relative Error: 9.66227112321509%\n",
      "\n",
      "3th Iteration: 0.501796201500181\n",
      "Relative Error: 0.3592403000361787%\n",
      "\n",
      "4th Iteration: 0.4999645653289127\n",
      "Relative Error: 0.007086934217481742%\n",
      "\n",
      "0.4999645653289127 4th Iteration에서 종료됩니다.\n"
     ]
    }
   ],
   "execution_count": 5
  },
  {
   "metadata": {},
   "cell_type": "code",
   "outputs": [],
   "execution_count": null,
   "source": "",
   "id": "7d799e148f26fe93"
  }
 ],
 "metadata": {
  "kernelspec": {
   "display_name": "Python 3",
   "language": "python",
   "name": "python3"
  },
  "language_info": {
   "codemirror_mode": {
    "name": "ipython",
    "version": 2
   },
   "file_extension": ".py",
   "mimetype": "text/x-python",
   "name": "python",
   "nbconvert_exporter": "python",
   "pygments_lexer": "ipython2",
   "version": "2.7.6"
  }
 },
 "nbformat": 4,
 "nbformat_minor": 5
}
