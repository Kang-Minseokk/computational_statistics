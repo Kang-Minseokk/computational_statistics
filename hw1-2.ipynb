{
 "cells": [
  {
   "metadata": {
    "ExecuteTime": {
     "end_time": "2024-10-12T14:04:39.844720Z",
     "start_time": "2024-10-12T14:04:39.836074Z"
    }
   },
   "cell_type": "code",
   "source": [
    "import math\n",
    "\n",
    "def app_cos(x, sig_num) :\n",
    "    result = 0\n",
    "    i = 0\n",
    "    true_value = math.cos(x)\n",
    "    # 종료 조건 생성\n",
    "    es = 0.5 * 10 ** (2 - sig_num)\n",
    "    old_result = 0\n",
    "    \n",
    "    while True:\n",
    "        result += ((-1) ** i * x ** (2 * i) / \n",
    "                   math.factorial(2 * i))\n",
    "        print(f\"{i+1}th Iteration: {result}\")\n",
    "        \n",
    "        # 오차 계산\n",
    "        true_relative_error = (abs(result - true_value) / \n",
    "                          true_value * 100)\n",
    "        print(f\"True Relative Error: {true_relative_error}%\")\n",
    "        \n",
    "        approximate_relative_error = (abs(result - old_result) / \n",
    "                                      result * 100)\n",
    "        print(f\"Approximate Relative Error: \"\n",
    "              f\"{approximate_relative_error}%\\n\")\n",
    "        old_result = result\n",
    "        \n",
    "        if es > true_relative_error :\n",
    "            print(f\"{result} {i+1}th Iteration에서 종료됩니다.\")\n",
    "            break\n",
    "        i += 1\n",
    "        \n",
    "print(f\"True Value : {math.cos(math.pi / 3)}\\n\")\n",
    "app_cos(math.pi/3, 3)        "
   ],
   "id": "2ebcdb497410f9c4",
   "outputs": [
    {
     "name": "stdout",
     "output_type": "stream",
     "text": [
      "True Value : 0.5000000000000001\n",
      "\n",
      "1th Iteration: 1.0\n",
      "True Relative Error: 99.99999999999996%\n",
      "Approximate Relative Error: 100.0%\n",
      "\n",
      "2th Iteration: 0.45168864438392464\n",
      "True Relative Error: 9.66227112321509%\n",
      "Approximate Relative Error: 121.39144130221342%\n",
      "\n",
      "3th Iteration: 0.501796201500181\n",
      "True Relative Error: 0.3592403000361787%\n",
      "Approximate Relative Error: 9.985638983805318%\n",
      "\n",
      "4th Iteration: 0.4999645653289127\n",
      "True Relative Error: 0.007086934217481742%\n",
      "Approximate Relative Error: 0.3663531974637684%\n",
      "\n",
      "0.4999645653289127 4th Iteration에서 종료됩니다.\n"
     ]
    }
   ],
   "execution_count": 17
  }
 ],
 "metadata": {
  "kernelspec": {
   "display_name": "Python 3",
   "language": "python",
   "name": "python3"
  },
  "language_info": {
   "codemirror_mode": {
    "name": "ipython",
    "version": 2
   },
   "file_extension": ".py",
   "mimetype": "text/x-python",
   "name": "python",
   "nbconvert_exporter": "python",
   "pygments_lexer": "ipython2",
   "version": "2.7.6"
  }
 },
 "nbformat": 4,
 "nbformat_minor": 5
}
