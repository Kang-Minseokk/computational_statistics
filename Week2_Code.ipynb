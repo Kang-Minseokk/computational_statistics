{
 "cells": [
  {
   "cell_type": "code",
   "id": "initial_id",
   "metadata": {
    "collapsed": true
   },
   "source": [
    "!pip install mobilechelonian\n",
    "!pip install ipywidgets"
   ],
   "outputs": [],
   "execution_count": null
  },
  {
   "metadata": {},
   "cell_type": "code",
   "source": [
    "from mobilechelonian import Turtle\n",
    "\n",
    "# Turtle 인스턴스 생성\n",
    "t = Turtle()\n",
    "\n",
    "# 앞으로 100픽셀 이동\n",
    "t.forward(100)\n",
    "\n",
    "# 90도 회전\n",
    "t.left(90)\n",
    "\n",
    "# 다시 앞으로 100픽셀 이동\n",
    "t.forward(100)\n"
   ],
   "id": "29ff75838be180e5",
   "outputs": [],
   "execution_count": null
  },
  {
   "metadata": {},
   "cell_type": "code",
   "source": "",
   "id": "57ff0d60715df767",
   "outputs": [],
   "execution_count": null
  }
 ],
 "metadata": {
  "kernelspec": {
   "display_name": "Python 3",
   "language": "python",
   "name": "python3"
  },
  "language_info": {
   "codemirror_mode": {
    "name": "ipython",
    "version": 2
   },
   "file_extension": ".py",
   "mimetype": "text/x-python",
   "name": "python",
   "nbconvert_exporter": "python",
   "pygments_lexer": "ipython2",
   "version": "2.7.6"
  }
 },
 "nbformat": 4,
 "nbformat_minor": 5
}
