{
 "cells": [
  {
   "metadata": {
    "ExecuteTime": {
     "end_time": "2024-10-31T13:57:01.559289Z",
     "start_time": "2024-10-31T13:57:00.904104Z"
    }
   },
   "cell_type": "code",
   "source": [
    "from scipy.stats import chi2\n",
    "import pandas as pd\n",
    "from scipy.stats import chi2_contingency\n",
    "\n",
    "# 관찰된 빈도와 기대된 빈도를 설정합니다.\n",
    "observed_yellow = 8023 - 2006  # 노란색 완두콩 수\n",
    "observed_green = 2006          # 녹색 완두콩 수\n",
    "observed = [observed_yellow, observed_green]\n",
    "\n",
    "# 멘델의 이론에 따른 기대 빈도를 계산합니다.\n",
    "expected_total = 8023\n",
    "expected_yellow = expected_total * (3/4)  # 3:1 비율에서 노란색의 기대 빈도\n",
    "expected_green = expected_total * (1/4)   # 3:1 비율에서 녹색의 기대 빈도\n",
    "expected = [expected_yellow, expected_green]\n",
    "\n",
    "observed_table = pd.DataFrame({\n",
    "    'Observed': observed,\n",
    "    'Expected': expected\n",
    "}, index=['Yellow', 'Green'])\n",
    "\n",
    "# 카이제곱 검정 수행\n",
    "chi2_stat, p_value, dof, expected_table = chi2_contingency([observed, expected])\n",
    "\n",
    "# 유의 수준 5%에서 카이제곱 임계값 계산 (자유도 1)\n",
    "alpha = 0.05\n",
    "critical_value = chi2.ppf(1 - alpha, df=1)\n",
    "\n",
    "# 결과 출력\n",
    "print(\"관찰된 빈도표:\\n\", observed_table)\n",
    "print(\"\\n카이제곱 통계량:\", chi2_stat)\n",
    "print(\"p-value:\", p_value)\n",
    "print(\"자유도:\", dof)\n",
    "print(\"기대 빈도표:\\n\", expected_table)\n",
    "\n",
    "# 가설 검정 결과\n",
    "if chi2_stat > critical_value:\n",
    "    print(\"귀무가설을 기각합니다: 관찰된 비율이 멘델의 이론과 통계적으로 유의미하게 다릅니다.\")\n",
    "else:\n",
    "    print(\"귀무가설을 채택합니다: 관찰된 비율이 멘델의 이론과 통계적으로 유의미하게 다르지 않습니다.\")\n"
   ],
   "id": "a1492cbb1344dde",
   "outputs": [
    {
     "name": "stdout",
     "output_type": "stream",
     "text": [
      "        Observed  Expected\n",
      "Yellow      6017   6017.25\n",
      "Green       2006   2005.75\n",
      "관찰된 빈도표:\n",
      "         Observed  Expected\n",
      "Yellow      6017   6017.25\n",
      "Green       2006   2005.75\n",
      "\n",
      "카이제곱 통계량: 0.0\n",
      "p-value: 1.0\n",
      "자유도: 1\n",
      "기대 빈도표:\n",
      " [[6017.125 2005.875]\n",
      " [6017.125 2005.875]]\n",
      "귀무가설을 채택합니다: 관찰된 비율이 멘델의 이론과 통계적으로 유의미하게 다르지 않습니다.\n"
     ]
    }
   ],
   "execution_count": 2
  }
 ],
 "metadata": {
  "kernelspec": {
   "display_name": "Python 3",
   "language": "python",
   "name": "python3"
  },
  "language_info": {
   "codemirror_mode": {
    "name": "ipython",
    "version": 2
   },
   "file_extension": ".py",
   "mimetype": "text/x-python",
   "name": "python",
   "nbconvert_exporter": "python",
   "pygments_lexer": "ipython2",
   "version": "2.7.6"
  }
 },
 "nbformat": 4,
 "nbformat_minor": 5
}
