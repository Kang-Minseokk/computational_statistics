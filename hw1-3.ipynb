{
 "cells": [
  {
   "metadata": {},
   "cell_type": "code",
   "source": "import numpy as np",
   "id": "c95c2efd0338e0e4",
   "outputs": [],
   "execution_count": null
  },
  {
   "metadata": {
    "ExecuteTime": {
     "end_time": "2024-10-09T13:33:58.553189Z",
     "start_time": "2024-10-09T13:33:58.548100Z"
    }
   },
   "cell_type": "code",
   "source": [
    "def func1(x) :\n",
    "    result = -12 - 21*x + 18 * x **2 - 2.75 * x **3\n",
    "    return result"
   ],
   "id": "e025e6b6e3e4938d",
   "outputs": [],
   "execution_count": 30
  },
  {
   "metadata": {
    "ExecuteTime": {
     "end_time": "2024-10-09T14:15:49.590789Z",
     "start_time": "2024-10-09T14:15:49.586290Z"
    }
   },
   "cell_type": "code",
   "source": [
    "def Kang4375(func, xl, xu, Ead) :\n",
    "    # 반복해야 하는 수 정하기\n",
    "    n = int(np.ceil(np.log2((xu - xl) / Ead)))\n",
    "    previous_xr = (xu + xl) / 2\n",
    "    \n",
    "    for i in range(n) :\n",
    "        # Step0 : f(xl), f(xu) 구하기\n",
    "        f_xl = func(xl)\n",
    "        f_xu = func(xu)\n",
    "        print(f\"{i+1}th Iteration\")\n",
    "        print(f\"xl={xl}, f_xl={f_xl}, xu={xu}, f_xu={f_xu}\")\n",
    "        \n",
    "        # Step1 : f(xr)과 xr 구하기\n",
    "        xr = (xl + xu) / 2\n",
    "        \n",
    "        # ea 구하기\n",
    "        ea = abs((xr - previous_xr) / xr) * 100\n",
    "        print(f\"ea={ea}\")\n",
    "        \n",
    "        # Ea 구하기 \n",
    "        Ea = xl - xu\n",
    "        \n",
    "        f_xr = func(xr)\n",
    "        print(f\"xr={xr}, f_xr={f_xr}\")\n",
    "        print(\"----------------------------------------\\n\")\n",
    "        \n",
    "        # Step2 : 조건문으로 파악하기\n",
    "        if f_xl * f_xr < 0 :\n",
    "            xu = xr            \n",
    "        elif f_xl * f_xr > 0 :\n",
    "            xl = xr\n",
    "        else :\n",
    "            print(f\"The solution is {xr}\")\n",
    "            break\n",
    "        \n",
    "        # previous xr 저장\n",
    "        previous_xr = xr\n",
    "        \n",
    "    return xr, Ea, ea, n"
   ],
   "id": "eb27d71a7304df2a",
   "outputs": [],
   "execution_count": 52
  },
  {
   "metadata": {
    "ExecuteTime": {
     "end_time": "2024-10-09T14:15:49.847252Z",
     "start_time": "2024-10-09T14:15:49.844795Z"
    }
   },
   "cell_type": "code",
   "source": "print(Kang4375(func1, -3, 10, 1e-7))",
   "id": "81dcd00b2ce435dc",
   "outputs": [
    {
     "name": "stdout",
     "output_type": "stream",
     "text": [
      "1th Iteration\n",
      "xl=-3, f_xl=287.25, xu=10, f_xu=-1172.0\n",
      "ea=0.0\n",
      "xr=3.5, f_xr=17.09375\n",
      "----------------------------------------\n",
      "\n",
      "2th Iteration\n",
      "xl=3.5, f_xl=17.09375, xu=10, f_xu=-1172.0\n",
      "ea=48.148148148148145\n",
      "xr=6.75, f_xr=-179.37890625\n",
      "----------------------------------------\n",
      "\n",
      "3th Iteration\n",
      "xl=3.5, f_xl=17.09375, xu=6.75, f_xu=-179.37890625\n",
      "ea=31.70731707317073\n",
      "xr=5.125, f_xr=-17.02490234375\n",
      "----------------------------------------\n",
      "\n",
      "4th Iteration\n",
      "xl=3.5, f_xl=17.09375, xu=5.125, f_xu=-17.02490234375\n",
      "ea=18.84057971014493\n",
      "xr=4.3125, f_xr=11.63873291015625\n",
      "----------------------------------------\n",
      "\n",
      "5th Iteration\n",
      "xl=4.3125, f_xl=11.63873291015625, xu=5.125, f_xu=-17.02490234375\n",
      "ea=8.609271523178808\n",
      "xr=4.71875, f_xr=0.7611312866210938\n",
      "----------------------------------------\n",
      "\n",
      "6th Iteration\n",
      "xl=4.71875, f_xl=0.7611312866210938, xu=5.125, f_xu=-17.02490234375\n",
      "ea=4.1269841269841265\n",
      "xr=4.921875, f_xr=-7.199189186096191\n",
      "----------------------------------------\n",
      "\n",
      "7th Iteration\n",
      "xl=4.71875, f_xl=0.7611312866210938, xu=4.921875, f_xu=-7.199189186096191\n",
      "ea=2.106969205834684\n",
      "xr=4.8203125, f_xr=-2.9944976568222046\n",
      "----------------------------------------\n",
      "\n",
      "8th Iteration\n",
      "xl=4.71875, f_xl=0.7611312866210938, xu=4.8203125, f_xu=-2.9944976568222046\n",
      "ea=1.0647010647010646\n",
      "xr=4.76953125, f_xr=-1.0616307109594345\n",
      "----------------------------------------\n",
      "\n",
      "9th Iteration\n",
      "xl=4.71875, f_xl=0.7611312866210938, xu=4.76953125, f_xu=-1.0616307109594345\n",
      "ea=0.5351996706463565\n",
      "xr=4.744140625, f_xr=-0.13662163726985455\n",
      "----------------------------------------\n",
      "\n",
      "10th Iteration\n",
      "xl=4.71875, f_xl=0.7611312866210938, xu=4.744140625, f_xu=-0.13662163726985455\n",
      "ea=0.26831785345717235\n",
      "xr=4.7314453125, f_xr=0.315644962945953\n",
      "----------------------------------------\n",
      "\n",
      "11th Iteration\n",
      "xl=4.7314453125, f_xl=0.315644962945953, xu=4.744140625, f_xu=-0.13662163726985455\n",
      "ea=0.13397918169638257\n",
      "xr=4.73779296875, f_xr=0.09036130746244453\n",
      "----------------------------------------\n",
      "\n",
      "12th Iteration\n",
      "xl=4.73779296875, f_xl=0.09036130746244453, xu=4.744140625, f_xu=-0.13662163726985455\n",
      "ea=0.06694474483753025\n",
      "xr=4.740966796875, f_xr=-0.02291748999050469\n",
      "----------------------------------------\n",
      "\n",
      "13th Iteration\n",
      "xl=4.73779296875, f_xl=0.09036130746244453, xu=4.740966796875, f_xu=-0.02291748999050469\n",
      "ea=0.0334835801674179\n",
      "xr=4.7393798828125, f_xr=0.03377504449463231\n",
      "----------------------------------------\n",
      "\n",
      "14th Iteration\n",
      "xl=4.7393798828125, f_xl=0.03377504449463231, xu=4.740966796875, f_xu=-0.02291748999050469\n",
      "ea=0.01673898767752984\n",
      "xr=4.74017333984375, f_xr=0.005442065312934119\n",
      "----------------------------------------\n",
      "\n",
      "15th Iteration\n",
      "xl=4.74017333984375, f_xl=0.005442065312934119, xu=4.740966796875, f_xu=-0.02291748999050469\n",
      "ea=0.00836879341311583\n",
      "xr=4.740570068359375, f_xr=-0.008734389808410015\n",
      "----------------------------------------\n",
      "\n",
      "16th Iteration\n",
      "xl=4.74017333984375, f_xl=0.005442065312934119, xu=4.740570068359375, f_xu=-0.008734389808410015\n",
      "ea=0.004184571805642735\n",
      "xr=4.7403717041015625, f_xr=-0.0016453316795264072\n",
      "----------------------------------------\n",
      "\n",
      "17th Iteration\n",
      "xl=4.74017333984375, f_xl=0.005442065312934119, xu=4.7403717041015625, f_xu=-0.0016453316795264072\n",
      "ea=0.0020923296803403092\n",
      "xr=4.740272521972656, f_xr=0.0018985744507062918\n",
      "----------------------------------------\n",
      "\n",
      "18th Iteration\n",
      "xl=4.740272521972656, f_xl=0.0018985744507062918, xu=4.7403717041015625, f_xu=-0.0016453316795264072\n",
      "ea=0.001046153895675924\n",
      "xr=4.740322113037109, f_xr=0.0001266732950853111\n",
      "----------------------------------------\n",
      "\n",
      "19th Iteration\n",
      "xl=4.740322113037109, f_xl=0.0001266732950853111, xu=4.7403717041015625, f_xu=-0.0016453316795264072\n",
      "ea=0.0005230742117573402\n",
      "xr=4.740346908569336, f_xr=-0.0007593162147259136\n",
      "----------------------------------------\n",
      "\n",
      "20th Iteration\n",
      "xl=4.740322113037109, f_xl=0.0001266732950853111, xu=4.740346908569336, f_xu=-0.0007593162147259136\n",
      "ea=0.0002615377898970366\n",
      "xr=4.740334510803223, f_xr=-0.00031631821548216976\n",
      "----------------------------------------\n",
      "\n",
      "21th Iteration\n",
      "xl=4.740322113037109, f_xl=0.0001266732950853111, xu=4.740334510803223, f_xu=-0.00031631821548216976\n",
      "ea=0.00013076906595378077\n",
      "xr=4.740328311920166, f_xr=-9.48216490996856e-05\n",
      "----------------------------------------\n",
      "\n",
      "22th Iteration\n",
      "xl=4.740322113037109, f_xl=0.0001266732950853111, xu=4.740328311920166, f_xu=-9.48216490996856e-05\n",
      "ea=6.538457572828987e-05\n",
      "xr=4.740325212478638, f_xr=1.592602575328783e-05\n",
      "----------------------------------------\n",
      "\n",
      "23th Iteration\n",
      "xl=4.740325212478638, f_xl=1.592602575328783e-05, xu=4.740328311920166, f_xu=-9.48216490996856e-05\n",
      "ea=3.269227717629157e-05\n",
      "xr=4.740326762199402, f_xr=-3.944776096886926e-05\n",
      "----------------------------------------\n",
      "\n",
      "24th Iteration\n",
      "xl=4.740325212478638, f_xl=1.592602575328783e-05, xu=4.740326762199402, f_xu=-3.944776096886926e-05\n",
      "ea=1.6346141260108688e-05\n",
      "xr=4.74032598733902, f_xr=-1.1760854931708309e-05\n",
      "----------------------------------------\n",
      "\n",
      "25th Iteration\n",
      "xl=4.740325212478638, f_xl=1.592602575328783e-05, xu=4.74032598733902, f_xu=-1.1760854931708309e-05\n",
      "ea=8.173071298045235e-06\n",
      "xr=4.740325599908829, f_xr=2.0825885940212174e-06\n",
      "----------------------------------------\n",
      "\n",
      "26th Iteration\n",
      "xl=4.740325599908829, f_xl=2.0825885940212174e-06, xu=4.74032598733902, f_xu=-1.1760854931708309e-05\n",
      "ea=4.086535482024888e-06\n",
      "xr=4.740325793623924, f_xr=-4.839132373035682e-06\n",
      "----------------------------------------\n",
      "\n",
      "27th Iteration\n",
      "xl=4.740325599908829, f_xl=2.0825885940212174e-06, xu=4.740325793623924, f_xu=-4.839132373035682e-06\n",
      "ea=2.0432677827618754e-06\n",
      "xr=4.7403256967663765, f_xr=-1.378271690555266e-06\n",
      "----------------------------------------\n",
      "\n",
      "(4.7403256967663765, -1.9371509552001953e-07, 2.0432677827618754e-06, 27)\n"
     ]
    }
   ],
   "execution_count": 53
  },
  {
   "metadata": {
    "ExecuteTime": {
     "end_time": "2024-10-09T14:15:52.550870Z",
     "start_time": "2024-10-09T14:15:52.546792Z"
    }
   },
   "cell_type": "code",
   "source": "func1(4.7403256967663765)",
   "id": "9058f2d53f7e56a6",
   "outputs": [
    {
     "data": {
      "text/plain": [
       "-1.378271690555266e-06"
      ]
     },
     "execution_count": 54,
     "metadata": {},
     "output_type": "execute_result"
    }
   ],
   "execution_count": 54
  },
  {
   "metadata": {
    "ExecuteTime": {
     "end_time": "2024-10-09T14:15:52.948661Z",
     "start_time": "2024-10-09T14:15:52.891953Z"
    }
   },
   "cell_type": "code",
   "source": [
    "import numpy as np\n",
    "import matplotlib.pyplot as plt\n",
    "\n",
    "# x 값의 범위 설정\n",
    "x = np.linspace(-5, 5, 400)\n",
    "\n",
    "# 주어진 함수: -12 - 21*x + 18*x^2 - 2.75*x^3\n",
    "y = -12 - 21*x + 18*x**2 - 2.75*x**3\n",
    "\n",
    "# 그래프 그리기\n",
    "plt.plot(x, y, label='-12 - 21*x + 18*x^2 - 2.75*x^3')\n",
    "\n",
    "# 그래프 꾸미기\n",
    "plt.title(\"Graph of -12 - 21*x + 18*x^2 - 2.75*x^3\")\n",
    "plt.xlabel(\"x\")\n",
    "plt.ylabel(\"y\")\n",
    "plt.axhline(0, color='black',linewidth=0.5)\n",
    "plt.axvline(0, color='black',linewidth=0.5)\n",
    "plt.grid(True)\n",
    "plt.legend()\n",
    "\n",
    "# 그래프 출력\n",
    "plt.show()\n"
   ],
   "id": "be547678dd766ff7",
   "outputs": [
    {
     "data": {
      "text/plain": [
       "<Figure size 640x480 with 1 Axes>"
      ],
      "image/png": "[encoded data removed]"
     },
     "metadata": {},
     "output_type": "display_data"
    }
   ],
   "execution_count": 55
  },
  {
   "metadata": {},
   "cell_type": "code",
   "outputs": [],
   "execution_count": null,
   "source": "",
   "id": "3db237886c52b6cb"
  }
 ],
 "metadata": {
  "kernelspec": {
   "display_name": "Python 3",
   "language": "python",
   "name": "python3"
  },
  "language_info": {
   "codemirror_mode": {
    "name": "ipython",
    "version": 2
   },
   "file_extension": ".py",
   "mimetype": "text/x-python",
   "name": "python",
   "nbconvert_exporter": "python",
   "pygments_lexer": "ipython2",
   "version": "2.7.6"
  }
 },
 "nbformat": 4,
 "nbformat_minor": 5
}
