{
 "cells": [
  {
   "metadata": {
    "ExecuteTime": {
     "end_time": "2024-10-12T14:13:03.557749Z",
     "start_time": "2024-10-12T14:13:03.552214Z"
    }
   },
   "cell_type": "code",
   "source": [
    "import numpy as np\n",
    "\n",
    "def func1(x) :\n",
    "    result = -12 - 21*x + 18 * x **2 - 2.75 * x **3\n",
    "    return result\n",
    "\n",
    "def Kang4375(func, xl, xu, Ead=1e-7) :\n",
    "    # 구간 내에 근이 없는 경우 종료하기\n",
    "    if func(xl) * func(xu) > 0 :\n",
    "        return 'Initial estimates do not bracket solution.'\n",
    "    \n",
    "    # 반복해야 하는 수 정하기\n",
    "    n = int(np.ceil(np.log2((xu - xl) / Ead)))\n",
    "    xm = (xu + xl) / 2\n",
    "    \n",
    "    for i in range(n) :                    \n",
    "        if func(xl) * func(xm) < 0 :\n",
    "            xu = xm\n",
    "        else :\n",
    "            xl = xm\n",
    "        old_xm = xm\n",
    "        xm = (xu + xl) / 2\n",
    "    \n",
    "    root = xm\n",
    "    # ea 구하기\n",
    "    ea = abs((xm - old_xm) / xm)\n",
    "    # Ea 구하기\n",
    "    Ea = (xu - xl) / 2**(i+1)\n",
    "                \n",
    "    return root, Ea, ea, n\n",
    "\n",
    "print(Kang4375(func1, -3, 10))"
   ],
   "id": "eb27d71a7304df2a",
   "outputs": [
    {
     "name": "stdout",
     "output_type": "stream",
     "text": [
      "(4.740325648337603, 7.216449660063518e-16, 1.021633901818296e-08, 27)\n"
     ]
    }
   ],
   "execution_count": 8
  },
  {
   "metadata": {
    "ExecuteTime": {
     "end_time": "2024-10-12T14:13:03.561004Z",
     "start_time": "2024-10-12T14:13:03.559393Z"
    }
   },
   "cell_type": "code",
   "source": "",
   "id": "81dcd00b2ce435dc",
   "outputs": [],
   "execution_count": 8
  }
 ],
 "metadata": {
  "kernelspec": {
   "display_name": "Python 3",
   "language": "python",
   "name": "python3"
  },
  "language_info": {
   "codemirror_mode": {
    "name": "ipython",
    "version": 2
   },
   "file_extension": ".py",
   "mimetype": "text/x-python",
   "name": "python",
   "nbconvert_exporter": "python",
   "pygments_lexer": "ipython2",
   "version": "2.7.6"
  }
 },
 "nbformat": 4,
 "nbformat_minor": 5
}
