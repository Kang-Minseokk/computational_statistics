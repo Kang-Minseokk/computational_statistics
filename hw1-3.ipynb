{
 "cells": [
  {
   "metadata": {
    "ExecuteTime": {
     "end_time": "2024-10-10T13:06:06.671789Z",
     "start_time": "2024-10-10T13:06:06.668245Z"
    }
   },
   "cell_type": "code",
   "source": "import numpy as np",
   "id": "c95c2efd0338e0e4",
   "outputs": [],
   "execution_count": 2
  },
  {
   "metadata": {
    "ExecuteTime": {
     "end_time": "2024-10-10T13:06:06.945776Z",
     "start_time": "2024-10-10T13:06:06.943381Z"
    }
   },
   "cell_type": "code",
   "source": [
    "def func1(x) :\n",
    "    result = -12 - 21*x + 18 * x **2 - 2.75 * x **3\n",
    "    return result"
   ],
   "id": "e025e6b6e3e4938d",
   "outputs": [],
   "execution_count": 3
  },
  {
   "metadata": {
    "ExecuteTime": {
     "end_time": "2024-10-10T13:06:20.719686Z",
     "start_time": "2024-10-10T13:06:20.716982Z"
    }
   },
   "cell_type": "code",
   "source": [
    "def Kang4375(func, xl, xu, Ead) :\n",
    "    # 구간 내에 근이 없는 경우 종료하기\n",
    "    if func(xl) * func(xu) > 0 :\n",
    "        return 'Initial estimates do not bracket solution.'\n",
    "    \n",
    "    # 반복해야 하는 수 정하기\n",
    "    n = int(np.ceil(np.log2((xu - xl) / Ead)))\n",
    "    xm = (xu + xl) / 2\n",
    "    \n",
    "    for i in range(n) :                    \n",
    "        if func(xl) * func(xm) < 0 :\n",
    "            xu = xm\n",
    "        else :\n",
    "            xl = xm\n",
    "        old_xm = xm\n",
    "        xm = (xu + xl) / 2\n",
    "    \n",
    "    root = xm\n",
    "    # ea 구하기\n",
    "    ea = abs((xm - old_xm) / xm)\n",
    "    # Ea 구하기\n",
    "    Ea = (xu - xl) / 2**(i+1)\n",
    "                \n",
    "    return root, Ea, ea, n"
   ],
   "id": "eb27d71a7304df2a",
   "outputs": [],
   "execution_count": 6
  },
  {
   "metadata": {
    "ExecuteTime": {
     "end_time": "2024-10-10T13:06:21.218682Z",
     "start_time": "2024-10-10T13:06:21.216630Z"
    }
   },
   "cell_type": "code",
   "source": "print(Kang4375(func1, -3, 10, 1e-7))",
   "id": "81dcd00b2ce435dc",
   "outputs": [
    {
     "name": "stdout",
     "output_type": "stream",
     "text": [
      "(4.740325648337603, 7.216449660063518e-16, 1.021633901818296e-08, 27)\n"
     ]
    }
   ],
   "execution_count": 7
  }
 ],
 "metadata": {
  "kernelspec": {
   "display_name": "Python 3",
   "language": "python",
   "name": "python3"
  },
  "language_info": {
   "codemirror_mode": {
    "name": "ipython",
    "version": 2
   },
   "file_extension": ".py",
   "mimetype": "text/x-python",
   "name": "python",
   "nbconvert_exporter": "python",
   "pygments_lexer": "ipython2",
   "version": "2.7.6"
  }
 },
 "nbformat": 4,
 "nbformat_minor": 5
}
