{
 "cells": [
  {
   "metadata": {
    "ExecuteTime": {
     "end_time": "2024-10-17T00:37:30.010810Z",
     "start_time": "2024-10-17T00:37:27.552575Z"
    }
   },
   "cell_type": "code",
   "source": [
    "import pandas as pd\n",
    "import statsmodels.api as sm\n",
    "import statsmodels.formula.api as smf\n",
    "\n",
    "data = {\n",
    "    'brand': ['A', 'A', 'A', 'A', 'B', 'B', 'B', 'C', 'C', 'C', 'C'],\n",
    "    'distance': [16.5, 18.0, 14.1, 17.8, 15.3, 14.8, 16.1, 19.0, 18.4, 15.3, 17.3]\n",
    "}\n",
    "\n",
    "df = pd.DataFrame(data)"
   ],
   "id": "d00e4d9736d2e3e7",
   "outputs": [],
   "execution_count": 1
  },
  {
   "metadata": {
    "ExecuteTime": {
     "end_time": "2024-10-17T00:37:30.021130Z",
     "start_time": "2024-10-17T00:37:30.011807Z"
    }
   },
   "cell_type": "code",
   "source": [
    "model = smf.ols('distance ~ C(brand)', data=df).fit()\n",
    "\n",
    "anova_table = sm.stats.anova_lm(model)\n",
    "\n",
    "print(anova_table)"
   ],
   "id": "3453df02d732ee43",
   "outputs": [
    {
     "name": "stdout",
     "output_type": "stream",
     "text": [
      "           df  sum_sq  mean_sq         F    PR(>F)\n",
      "C(brand)  2.0    7.56   3.7800  1.638137  0.253336\n",
      "Residual  8.0   18.46   2.3075       NaN       NaN\n"
     ]
    }
   ],
   "execution_count": 2
  },
  {
   "metadata": {
    "ExecuteTime": {
     "end_time": "2024-10-17T00:37:30.023350Z",
     "start_time": "2024-10-17T00:37:30.021742Z"
    }
   },
   "cell_type": "code",
   "source": "p_value = anova_table[\"PR(>F)\"][\"C(brand)\"]",
   "id": "14505c4b594da48e",
   "outputs": [],
   "execution_count": 3
  },
  {
   "metadata": {
    "ExecuteTime": {
     "end_time": "2024-10-17T00:37:30.025932Z",
     "start_time": "2024-10-17T00:37:30.023940Z"
    }
   },
   "cell_type": "code",
   "source": [
    "if p_value < 0.05:\n",
    "    print(f\"{round(p_value, 3)} < 0.05\")\n",
    "    print(\"귀무가설을 기각합니다\")\n",
    "else :\n",
    "    print(f\"{round(p_value, 3)} > 0.05\")\n",
    "    print(\"귀무가설을 기각하지 않습니다. 귀무가설을 채택합니다.\")\n",
    "    print(\"따라서, 브랜드에 따른 주행거리의 차이가 존재하지 않습니다.\")"
   ],
   "id": "99b5f0c30c1dbf74",
   "outputs": [
    {
     "name": "stdout",
     "output_type": "stream",
     "text": [
      "0.253 > 0.05\n",
      "귀무가설을 기각하지 않습니다. 귀무가설을 채택합니다.\n",
      "따라서, 브랜드에 따른 주행거리의 차이가 존재하지 않습니다.\n"
     ]
    }
   ],
   "execution_count": 4
  }
 ],
 "metadata": {
  "kernelspec": {
   "display_name": "Python 3",
   "language": "python",
   "name": "python3"
  },
  "language_info": {
   "codemirror_mode": {
    "name": "ipython",
    "version": 2
   },
   "file_extension": ".py",
   "mimetype": "text/x-python",
   "name": "python",
   "nbconvert_exporter": "python",
   "pygments_lexer": "ipython2",
   "version": "2.7.6"
  }
 },
 "nbformat": 4,
 "nbformat_minor": 5
}
